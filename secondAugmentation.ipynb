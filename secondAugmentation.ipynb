{
 "cells": [
  {
   "cell_type": "code",
   "execution_count": 1,
   "metadata": {},
   "outputs": [],
   "source": [
    "import numpy as np\n",
    "import imgaug as ia\n",
    "import imgaug.augmenters as iaa\n",
    "import glob\n",
    "import tqdm\n",
    "import sys\n",
    "import os\n",
    "import csv\n",
    "import cv2\n",
    "import random\n",
    "from PIL import Image\n",
    "\n",
    "np.random.bit_generator = np.random._bit_generator"
   ]
  },
  {
   "cell_type": "code",
   "execution_count": 2,
   "metadata": {},
   "outputs": [],
   "source": [
    "img_dir = \"/Users/Work/Documents/Conversion/data/dataset/\"\n",
    "aug_dir = \"/Users/Work/Documents/Conversion/data/datasetAug/\"\n",
    "\n",
    "## Define number of augmented images to generate\n",
    "aug_num = 10\n",
    "\n",
    "## Bounding box coordinates: [[(image1 box1), (image1 box2)], [(image2 box1), (image2 box2)]]\n",
    "coor = []\n",
    "img_list = []\n",
    "img_concat = np.array([])"
   ]
  },
  {
   "cell_type": "code",
   "execution_count": 10,
   "metadata": {},
   "outputs": [],
   "source": [
    "def tilting():\n",
    "    dataIn = open(\"/Users/Work/Documents/Conversion/data/csvAug.txt\", \"r\")\n",
    "    dataOut = open(\"/Users/Work/Documents/Conversion/data/cs.txt\", \"w\")\n",
    "\n",
    "    with dataIn as dataInRead:\n",
    "        readValues = csv.reader(dataInRead, delimiter=',')\n",
    "\n",
    "        count = 0\n",
    "\n",
    "        for row in readValues:\n",
    "            if count == 0:\n",
    "                dataOut.write(\"\\\"{}\\\", {}, {}, {}, {}, {}\\n\".format(row[0], row[1], row[2], row[3], row[4], row[5]))\n",
    "            else:\n",
    "                for i in range(0, 5):\n",
    "                    ia.seed(1)\n",
    "                    image = cv2.imread(\"/Users/Work/Documents/Conversion/data/dataset/\" + row[0])\n",
    "\n",
    "                    h, w, c = image.shape\n",
    "\n",
    "                    bbs = ia.BoundingBoxesOnImage(\n",
    "                     [ia.BoundingBox(x1=round(float(row[1])*w), y1= round(float(row[2])*h), x2= round(float(row[3])*w), y2= round(float(row[4])*h))],\n",
    "                     shape=image.shape)\n",
    "\n",
    "                    seq = iaa.Sequential([\n",
    "                            iaa.Affine(\n",
    "                                rotate=(-25,25),\n",
    "                            ),\n",
    "                            iaa.Fliplr(p=np.random.uniform(0, 1)),\n",
    "                            iaa.Flipud(p=np.random.uniform(0, 1))\n",
    "                            ])\n",
    "\n",
    "                    seq_det = seq.to_deterministic()\n",
    "\n",
    "                    image_aug = seq_det.augment_images([image])[0]\n",
    "                    bbs_aug = seq_det.augment_bounding_boxes([bbs])[0]\n",
    "                    cv2.imwrite(\"/Users/Work/Documents/Conversion/data/datasetAug/{}{}\".format((i+4), row[0]), image_aug)\n",
    "\n",
    "                    xMinNorm = (float(bbs_aug.bounding_boxes[0].x1) / w)\n",
    "                    yMinNorm = (float(bbs_aug.bounding_boxes[0].y1) / h)\n",
    "                    xMaxNorm = (float(bbs_aug.bounding_boxes[0].x2) / w)\n",
    "                    yMaxNorm = (float(bbs_aug.bounding_boxes[0].y2) / h)\n",
    "\n",
    "                    dataOut.write(\"\\\"{}{}\\\", {}, {}, {}, {}, {}\\n\".format((i+4), row[0], xMinNorm, yMinNorm, xMaxNorm, yMaxNorm, row[5]))\n",
    "                \n",
    "            count += 1\n",
    "\n",
    "    dataIn.close()\n",
    "    dataOut.close()"
   ]
  },
  {
   "cell_type": "code",
   "execution_count": 11,
   "metadata": {},
   "outputs": [],
   "source": [
    "tilting()"
   ]
  },
  {
   "cell_type": "code",
   "execution_count": null,
   "metadata": {},
   "outputs": [],
   "source": [
    "bbs_aug.bounding_boxes[0]"
   ]
  },
  {
   "cell_type": "code",
   "execution_count": null,
   "metadata": {},
   "outputs": [
    {
     "name": "stderr",
     "output_type": "stream",
     "text": [
      "  0%|▎                                                                          | 18/3737 [20:47<279:31:14, 270.58s/it]"
     ]
    }
   ],
   "source": [
    "## Concat images\n",
    "for i in tqdm.tqdm(range(len(img_list))):\n",
    "    img_array = np.asarray(Image.open(img_list[i]))\n",
    "    img_concat = np.append(img_concat, np.expand_dims(img_array, axis=0))\n",
    "\n",
    "img_concat = np.reshape(img_concat, ((len(img_list), img_array.shape[0], img_array.shape[1], 3)))\n",
    "img_concat = img_concat.astype(np.uint8)"
   ]
  },
  {
   "cell_type": "code",
   "execution_count": null,
   "metadata": {},
   "outputs": [],
   "source": [
    "## Concat bounding box\n",
    "bounding_boxes = []\n",
    "\n",
    "for each in tqdm.tqdm(range(len(coor))):\n",
    "    container = []\n",
    "\n",
    "    for each_box in coor[each]:\n",
    "        container.append(ia.BoundingBox(x1=int(each_box[0]), y1=int(each_box[1]), x2=int(each_box[2]), y2=int(each_box[3]),))\n",
    "\n",
    "    bounding_boxes.append(container)"
   ]
  },
  {
   "cell_type": "code",
   "execution_count": null,
   "metadata": {},
   "outputs": [],
   "source": [
    "## Augmenting images\n",
    "\n",
    "aug_box_list = [] ## Format of output of augmented box coordinates same as input\n",
    "\n",
    "for j in tqdm.tqdm(range(int(aug_num/len(img_list)))):\n",
    "    seq = iaa.Sequential([\n",
    "        iaa.Multiply(mul=np.random.uniform(0.5, 1.5)),\n",
    "        iaa.Fliplr(p=np.random.uniform(0, 1)),\n",
    "        iaa.Flipud(p=np.random.uniform(0, 1))\n",
    "        ])\n",
    "\n",
    "    img_aug, bbs_aug = seq(images=img_concat, bounding_boxes=bounding_boxes)\n",
    "\n",
    "    for i, each_img_bbs in enumerate(bbs_aug):\n",
    "        aug_container = []\n",
    "        img_aug_each = Image.fromarray(img_aug[i])\n",
    "        img_aug_each.save(os.path.join(aug_dir, (img_list[i].split(\"/\")[-1].split(\".\")[0] + \"_\" + str(j+1) + \".png\")))\n",
    "\n",
    "        for each_bbs in each_img_bbs:\n",
    "            aug_container.append((each_bbs.x1, each_bbs.y1, each_bbs.x2, each_bbs.y2))\n",
    "\n",
    "        aug_box_list.append(aug_container)"
   ]
  },
  {
   "cell_type": "code",
   "execution_count": null,
   "metadata": {},
   "outputs": [],
   "source": []
  }
 ],
 "metadata": {
  "kernelspec": {
   "display_name": "Python 3",
   "language": "python",
   "name": "python3"
  },
  "language_info": {
   "codemirror_mode": {
    "name": "ipython",
    "version": 3
   },
   "file_extension": ".py",
   "mimetype": "text/x-python",
   "name": "python",
   "nbconvert_exporter": "python",
   "pygments_lexer": "ipython3",
   "version": "3.7.6"
  }
 },
 "nbformat": 4,
 "nbformat_minor": 2
}
