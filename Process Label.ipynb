{
 "cells": [
  {
   "cell_type": "code",
   "execution_count": 44,
   "metadata": {},
   "outputs": [],
   "source": [
    "import os\n",
    "import cv2\n",
    "import pandas\n",
    "from PIL import Image\n",
    "from tqdm import tqdm_notebook as tqdm\n",
    "from matplotlib import pyplot as plt"
   ]
  },
  {
   "cell_type": "markdown",
   "metadata": {},
   "source": [
    "### Sample NAE Dataset Annotations\n",
    "```\n",
    "IMG_2012-09-26T09-00-01.jpg\n",
    "4640,3132,17,15,u\n",
    "4882,3158,16,24,u\n",
    "707,3273,23,19,u\n",
    "IMG_2012-09-26T09-00-03.jpg\n",
    "5218,3156,32,24,b\n",
    "IMG_2012-09-26T09-00-05.jpg\n",
    "5528,3106,38,27,b\n",
    "4139,3164,28,21,b\n",
    "691,3258,35,19,b\n",
    "516,3319,21,28,b\n",
    "5272,3146,31,29,b\n",
    "IMG_2012-09-26T09-00-07.jpg\n",
    "5552,3140,29,15,b\n",
    "1167,3164,40,25,u\n",
    "```"
   ]
  },
  {
   "cell_type": "code",
   "execution_count": 10,
   "metadata": {},
   "outputs": [],
   "source": [
    "## Data Array for Checking Much Later\n",
    "processed_annotations = []\n",
    "\n",
    "## Labels\n",
    "labels = ['Drones', 'Birds', 'Aircrafts']\n",
    "\n",
    "## Average Bounding Box Size\n",
    "avg_width   = 0\n",
    "avg_height  = 0\n",
    "avg_area    = 0\n",
    "class_birds = 0\n",
    "class_aircraft = 0"
   ]
  },
  {
   "cell_type": "code",
   "execution_count": 13,
   "metadata": {},
   "outputs": [],
   "source": [
    "def ConvertNAEAnnotations(filename, img_path, output_filename):\n",
    "    # Image Extensions List\n",
    "    image_extensions = ['.jpg', '.JPG', '.png', '.PNG', '.jpeg', '.JPEG']\n",
    "    # Open File\n",
    "    annotation_data = open(filename, \"r\")\n",
    "    output_file     = open(output_filename, \"w\")\n",
    "    \n",
    "    # Current Filename\n",
    "    curr_filename = None\n",
    "    curr_height   = None\n",
    "    curr_width    = None\n",
    "    \n",
    "    # Class Index Variable\n",
    "    class_idx = None\n",
    "    \n",
    "    # Statistics Tracking\n",
    "    global avg_width\n",
    "    global avg_height\n",
    "    global avg_area\n",
    "    global class_birds\n",
    "    global class_aircraft\n",
    "    \n",
    "    for line in annotation_data:\n",
    "        # Check for Filename\n",
    "        if any(extension in line for extension in image_extensions):\n",
    "            curr_filename = line.rstrip()\n",
    "            # Obtain Dimensions\n",
    "            try:\n",
    "                # Check if File Exists\n",
    "                im = Image.open(img_path + curr_filename)\n",
    "                if im is None:\n",
    "                    continue\n",
    "            except:\n",
    "                # Debugger\n",
    "                print(curr_filename + \" does not exist.\")\n",
    "                continue\n",
    "            \n",
    "                \n",
    "            curr_width, curr_height = im.size\n",
    "        else:\n",
    "            # Parse Data for Pre-processing\n",
    "            x_min, y_min, height, width, obj = line.rstrip().split(\",\")\n",
    "            \n",
    "            # Record Statistics\n",
    "            avg_width  += int(width)\n",
    "            avg_height += int(height)\n",
    "            avg_area   += int(width) * int(height)\n",
    "            \n",
    "            x_min = int(x_min)\n",
    "            y_min = int(y_min)\n",
    "            x_max = x_min + int(width)\n",
    "            y_max = y_min + int(height)\n",
    "            \n",
    "            x_min_norm = x_min / curr_width\n",
    "            y_min_norm = y_min / curr_height\n",
    "            x_max_norm = x_max / curr_width\n",
    "            y_max_norm = y_max / curr_height\n",
    "            \n",
    "            # Convert Class Name\n",
    "            if obj is 'b':\n",
    "                class_idx = 2\n",
    "                class_birds += 1\n",
    "            elif obj is 'u':\n",
    "                class_idx = 3\n",
    "                class_aircraft += 1\n",
    "            \n",
    "            # Write and Record\n",
    "            processed_annotations.append((curr_filename, class_idx, x_min_norm, y_min_norm, x_max_norm, y_max_norm))\n",
    "            output_file.write(\"{} {} {} {} {} {}\\n\".format(curr_filename, class_idx, x_min_norm, y_min_norm, x_max_norm, y_max_norm))\n",
    "            \n",
    "    # Close Files\n",
    "    annotation_data.close()\n",
    "    output_file.close()\n",
    "            \n",
    "            "
   ]
  },
  {
   "cell_type": "code",
   "execution_count": 14,
   "metadata": {},
   "outputs": [],
   "source": [
    "ConvertNAEAnnotations(\"../data/bird_annotation/bird_annotation.txt\",  \"../data/bird_images/\", \"annotation.txt\")"
   ]
  },
  {
   "cell_type": "markdown",
   "metadata": {},
   "source": [
    "### Check Random Bounding Boxes \n",
    "```\n",
    "1. Randomly select various images\n",
    "2. Render bounding boxes\n",
    "3. Inspect\n",
    "4. Profit\n",
    "```"
   ]
  },
  {
   "cell_type": "code",
   "execution_count": 88,
   "metadata": {},
   "outputs": [
    {
     "name": "stdout",
     "output_type": "stream",
     "text": [
      "Processing : IMG_2012-09-26T09-02-35.jpg\n",
      "1338 2790 31 30\n"
     ]
    },
    {
     "data": {
      "image/png": "[encoded data removed]",
      "text/plain": [
       "<Figure size 432x288 with 1 Axes>"
      ]
     },
     "metadata": {
      "needs_background": "light"
     },
     "output_type": "display_data"
    }
   ],
   "source": [
    "import random\n",
    "import matplotlib.patches as patches\n",
    "\n",
    "def check_random_img(padding, img_filename=None, bbox_data=None):\n",
    "    # Use Random Index\n",
    "    if img_filename is None:\n",
    "        rand_idx = random.randint(0, len(processed_annotations))\n",
    "        # Extract Tuple\n",
    "        curr_filename, class_idx, x_min_norm, y_min_norm, x_max_norm, y_max_norm = processed_annotations[rand_idx] \n",
    "        image_file_path = \"../data/bird_images/\" + curr_filename\n",
    "    else:\n",
    "        image_file_path = img_filename\n",
    "        curr_filename, class_idx, x_min_norm, y_min_norm, x_max_norm, y_max_norm = bbox_data\n",
    "    \n",
    "    print(\"Processing : \" + curr_filename)\n",
    "\n",
    "    # Read Image File\n",
    "    img = cv2.imread(image_file_path)\n",
    "    height, width, channels = img.shape\n",
    "    fig, ax = plt.subplots(1)\n",
    "\n",
    "    bbox_left   = int(width  * x_min_norm)\n",
    "    bbox_top    = int(height * y_min_norm)\n",
    "    bbox_width  = int((x_max_norm - x_min_norm) * width)\n",
    "    bbox_height = int((y_max_norm - y_min_norm) * height)\n",
    "    plt.text(bbox_left, bbox_top - 10, labels[class_idx - 1])\n",
    "    \n",
    "    print(bbox_left, bbox_top, bbox_width, bbox_height)\n",
    "    \n",
    "    # Create a Rectangle patch\n",
    "    rect = patches.Rectangle((bbox_left, bbox_top), bbox_width, bbox_height, linewidth=1, edgecolor='r',facecolor='none')\n",
    "    ax.add_patch(rect)\n",
    "    \n",
    "    plt.xlim(bbox_left - padding, bbox_left + bbox_width + padding)\n",
    "    plt.ylim(bbox_top - padding, bbox_top + bbox_height + padding)\n",
    "    \n",
    "    \n",
    "    # Add the patch to the Axes\n",
    "    ax.imshow(img)\n",
    "    plt.show()\n",
    "\n",
    "check_random_img(25)"
   ]
  },
  {
   "cell_type": "markdown",
   "metadata": {},
   "source": [
    "### Check for Mean Bounding Box Size and Distribution\n",
    "Analyze Bounding Box Distributions"
   ]
  },
  {
   "cell_type": "code",
   "execution_count": 30,
   "metadata": {},
   "outputs": [
    {
     "name": "stdout",
     "output_type": "stream",
     "text": [
      "Average Width  : 26\n",
      "Average Height : 35\n",
      "Birds          : 10611\n",
      "Aircrafts      : 4796\n"
     ]
    }
   ],
   "source": [
    "print(\"Average Width  : {}\".format(int(avg_width / len(processed_annotations))))\n",
    "print(\"Average Height : {}\".format(int(avg_height / len(processed_annotations))))\n",
    "print(\"Birds          : {}\\nAircrafts      : {}\".format(class_birds, class_aircraft))"
   ]
  },
  {
   "cell_type": "markdown",
   "metadata": {},
   "source": [
    "### Convert Images to Bounding Box Padded Crops\n",
    "The image resolution in the bird datasets are too large in comparison with the actual objects that are bounded."
   ]
  },
  {
   "cell_type": "code",
   "execution_count": 96,
   "metadata": {},
   "outputs": [
    {
     "data": {
      "application/vnd.jupyter.widget-view+json": {
       "model_id": "2d11a20b122443f1993508955088e808",
       "version_major": 2,
       "version_minor": 0
      },
      "text/plain": [
       "HBox(children=(IntProgress(value=0, max=15701), HTML(value='')))"
      ]
     },
     "metadata": {},
     "output_type": "display_data"
    }
   ],
   "source": [
    "import PIL\n",
    "import hashlib\n",
    "from PIL import Image\n",
    "\n",
    "def crop_around_bb(padding):\n",
    "    # Augmented Annotations File\n",
    "    output_file = open(\"../data/augmented_annotations/annotations.txt\", \"w\")\n",
    "    \n",
    "    # Iterate Through All Data\n",
    "    for data in tqdm(processed_annotations):\n",
    "        curr_filename, class_idx, x_min_norm, y_min_norm, x_max_norm, y_max_norm = data\n",
    "        image_file_path = \"../data/bird_images/\" + curr_filename\n",
    "        \n",
    "        # Load Image\n",
    "        img           = Image.open(image_file_path)\n",
    "        width, height = img.size\n",
    "        \n",
    "        # Perform Random Padding\n",
    "        pad_top    = random.randint(0, padding)\n",
    "        pad_left   = random.randint(0, padding)\n",
    "        pad_right  = random.randint(0, padding)\n",
    "        pad_bottom = random.randint(0, padding)\n",
    "        \n",
    "        bbox_left    = int(width  * x_min_norm)\n",
    "        bbox_top     = int(height * y_min_norm)\n",
    "        bbox_width   = int((x_max_norm - x_min_norm) * width)\n",
    "        bbox_height  = int((y_max_norm - y_min_norm) * height)\n",
    "        \n",
    "        crop_dim = (bbox_left - pad_left, bbox_top - pad_top, bbox_left + bbox_width + pad_right, bbox_top + bbox_height + pad_bottom)\n",
    "        crop_img = img.crop(crop_dim)\n",
    "        img_hash = hashlib.md5(crop_img.tobytes()).hexdigest()\n",
    "        augmented_filename = img_hash + \".png\"\n",
    "        crop_img.save(\"../data/augmented_birds/\" + augmented_filename)\n",
    "        \n",
    "        # Recalculate Bounding Boxes Coordinates\n",
    "        crop_height  = pad_top + pad_bottom + bbox_height\n",
    "        crop_width   = pad_left + pad_right + bbox_width\n",
    "        bbox_x_min   = pad_left / crop_width\n",
    "        bbox_y_min   = pad_top / crop_height\n",
    "        bbox_x_max   = (pad_left + bbox_width)  / crop_width\n",
    "        bbox_y_max   = (pad_top + bbox_height) / crop_height\n",
    "        \n",
    "        #check_random_img(25, \"../data/augmented_birds/\" + augmented_filename, (augmented_filename, class_idx, bbox_x_min, bbox_y_min, bbox_x_max, bbox_y_max))\n",
    "        \n",
    "        output_file.write(\"{} {} {} {} {} {}\\n\".format(augmented_filename, class_idx, bbox_x_min, bbox_y_min, bbox_x_max, bbox_y_max))\n",
    "       \n",
    "    # Close Output File\n",
    "    output_file.close()\n",
    "\n",
    "# Execute\n",
    "crop_around_bb(150)"
   ]
  },
  {
   "cell_type": "code",
   "execution_count": null,
   "metadata": {},
   "outputs": [],
   "source": []
  },
  {
   "cell_type": "code",
   "execution_count": 7,
   "metadata": {},
   "outputs": [
    {
     "data": {
      "text/plain": [
       "[3]"
      ]
     },
     "execution_count": 7,
     "metadata": {},
     "output_type": "execute_result"
    }
   ],
   "source": [
    "random_map = {1 : 1, 2 : 2, 3 : 3}\n",
    "list(random_map)[2:]"
   ]
  },
  {
   "cell_type": "code",
   "execution_count": null,
   "metadata": {},
   "outputs": [],
   "source": []
  }
 ],
 "metadata": {
  "kernelspec": {
   "display_name": "Python 3",
   "language": "python",
   "name": "python3"
  },
  "language_info": {
   "codemirror_mode": {
    "name": "ipython",
    "version": 3
   },
   "file_extension": ".py",
   "mimetype": "text/x-python",
   "name": "python",
   "nbconvert_exporter": "python",
   "pygments_lexer": "ipython3",
   "version": "3.7.6"
  }
 },
 "nbformat": 4,
 "nbformat_minor": 2
}
